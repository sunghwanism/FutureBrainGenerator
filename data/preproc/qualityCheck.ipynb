{
 "cells": [
  {
   "cell_type": "code",
   "execution_count": null,
   "metadata": {},
   "outputs": [],
   "source": [
    "import os\n",
    "import nibabel as nib\n",
    "import matplotlib.pyplot as plt\n",
    "from tqdm.auto import tqdm\n",
    "import shutil\n",
    "import time\n",
    "\n",
    "import pandas as pd\n",
    "import numpy as np\n",
    "import warnings\n",
    "warnings.filterwarnings(\"ignore\")"
   ]
  },
  {
   "cell_type": "code",
   "execution_count": 2,
   "metadata": {},
   "outputs": [],
   "source": [
    "_type = 'long'\n",
    "imgpath = f'/NFS/FutureBrainGen/data/{_type}/img'"
   ]
  },
  {
   "cell_type": "code",
   "execution_count": null,
   "metadata": {},
   "outputs": [],
   "source": [
    "with open('/NFS/FutureBrainGen/data/cross/bad_qc_files_cross.txt') as f:\n",
    "    bad_mris = f.read().splitlines()\n",
    "len(bad_mris)"
   ]
  },
  {
   "cell_type": "code",
   "execution_count": null,
   "metadata": {},
   "outputs": [],
   "source": [
    "imglist = os.listdir(imgpath)\n",
    "imglist.sort()\n",
    "imgs = [os.path.join(imgpath, i) for i in imglist]\n",
    "print(\"Original number of images: \", len(imgs))\n",
    "\n",
    "imgs = [i for i in imgs if i not in bad_mris]\n",
    "print(\"Number of images after removing bad ones: \", len(imgs))"
   ]
  },
  {
   "cell_type": "markdown",
   "metadata": {},
   "source": [
    "## QC for merge data"
   ]
  },
  {
   "cell_type": "code",
   "execution_count": 10,
   "metadata": {},
   "outputs": [],
   "source": [
    "# imgs = imgs[7000:8000]\n",
    "imgs = os.listdir('/NFS/FutureBrainGen/data/long/new_img')\n",
    "imgs = imgs[2000:3000]"
   ]
  },
  {
   "cell_type": "code",
   "execution_count": 11,
   "metadata": {},
   "outputs": [],
   "source": [
    "def img_genertor(img_list, num_split=100):\n",
    "    need_list = len(img_list) // num_split\n",
    "    for i in range(need_list):\n",
    "        yield img_list[i*num_split:(i+1)*num_split]\n",
    "\n",
    "img_list = img_genertor(imgs)"
   ]
  },
  {
   "cell_type": "code",
   "execution_count": null,
   "metadata": {},
   "outputs": [],
   "source": [
    "for idx, imgs in enumerate(img_list):\n",
    "    print(f\"########################## {idx} Split ##########################\")\n",
    "    fig, axs = plt.subplots(10, 10, figsize=(30, 30))\n",
    "\n",
    "    for i in range(10):\n",
    "        for j in range(10):\n",
    "            img = nib.load(os.path.join('/NFS/FutureBrainGen/data/long/new_img', imgs[j*10+i]))\n",
    "            img = img.get_fdata()\n",
    "            axs[i][j].imshow(img[:,:,50], cmap='gray')\n",
    "            axs[i][j].axis('off')\n",
    "            axs[i][j].set_title(f'{imgs[j*10+i].split(\"/\")[-1]}', fontsize=7)\n",
    "\n",
    "    plt.tight_layout()\n",
    "    plt.show()"
   ]
  },
  {
   "cell_type": "code",
   "execution_count": null,
   "metadata": {},
   "outputs": [],
   "source": []
  },
  {
   "cell_type": "markdown",
   "metadata": {},
   "source": [
    "## Filtered phenotype data"
   ]
  },
  {
   "cell_type": "code",
   "execution_count": 5,
   "metadata": {},
   "outputs": [],
   "source": [
    "# Date Format: 1953-12-03_11_47_07.0\n",
    "\n",
    "folder_format = 'Sag_3D_MP-RAGE'\n",
    "\n",
    "mcsa_phenotype = pd.read_csv('/NFS/MRI/MCSA/phenotype/MCSA_Phenotype.csv')\n",
    "use_col = ['mcsa_id', 'imagingdate', 'calc_age_vis', 'male', 'CDRSUM', 'fcogimpr'] # FCOGIMPR: 0=NORMAL, 1=MCI, 3=DEMENTIA\n",
    "\n",
    "mcsa_phenotype = mcsa_phenotype[use_col]\n",
    "mcsa_phenotype.dropna(subset=use_col, inplace=True, axis=0)\n",
    "mcsa_phenotype.rename(columns={'mcsa_id': 'Subject',\n",
    "                               'calc_age_vis': \"Age\",\n",
    "                               'male':\"Sex(1=m,2=f)\",\n",
    "                               'fcogimpr': \"Group\",\n",
    "                               'imagingdate':'Date'}, inplace=True)\n",
    "mcsa_phenotype['Sex(1=m,2=f)'].replace({1:1, 0:2}, inplace=True)\n",
    "mcsa_phenotype = mcsa_phenotype[mcsa_phenotype['Group']!=4]\n",
    "mcsa_phenotype['Group'].replace({0:'HC', 1:'MCI', 3:'Dementia'}, inplace=True)"
   ]
  },
  {
   "cell_type": "code",
   "execution_count": null,
   "metadata": {},
   "outputs": [],
   "source": [
    "mcsa_phenotype"
   ]
  },
  {
   "cell_type": "code",
   "execution_count": null,
   "metadata": {},
   "outputs": [],
   "source": [
    "MCSA_MRIPATH = '/NFS/MRI/MCSA/original/'\n",
    "mcsa_subj_list = os.listdir(MCSA_MRIPATH)\n",
    "mcsa_subj_list.sort()\n",
    "mcsa_subj_list = mcsa_subj_list[:-5]\n",
    "\n",
    "filter_df = pd.DataFrame(columns=['Subject', 'Date',])\n",
    "\n",
    "for subj in mcsa_subj_list:\n",
    "    subjPATH = os.path.join(MCSA_MRIPATH, subj, folder_format)\n",
    "    mrsession = os.listdir(subjPATH)\n",
    "\n",
    "    if '.DS_Store' in mrsession:\n",
    "        mrsession.remove('.DS_Store')\n",
    "        # shutil.rmtree(os.path.join(subjPATH, '.DS_Store'))\n",
    "    try:\n",
    "        mri_name = os.listdir(os.path.join('/NFS/MRI/MCSA/preprocess/', subj, 'mri'))\n",
    "        mri_name = [i for i in mri_name if i.startswith('wm')]\n",
    "\n",
    "        if not os.path.exists(os.path.join('/NFS/FutureBrainGen/data/cross/img/', mri_name[0])):\n",
    "            shutil.copy(os.path.join('/NFS/MRI/MCSA/preprocess/', subj, 'mri', mri_name[0]), \n",
    "                        f'/NFS/FutureBrainGen/data/cross/img/')\n",
    "            print(mri_name)\n",
    "        # shutil.copy(os.path.join('/NFS/MRI/MCSA/preprocess/', subj, 'mri', mri_name[0]), \n",
    "                    # f'/NFS/FutureBrainGen/data/cross/img/')\n",
    "        # time.sleep(1)\n",
    "        # print(mri_name)\n",
    "        \n",
    "    except:\n",
    "        mri_name = None\n",
    "\n",
    "    date = mrsession[0].split('_')[0]\n",
    "    filter_df = pd.concat([filter_df, pd.DataFrame({'Subject':[subj], 'Date':[date],\n",
    "                                                    'File name': mri_name})], axis=0)"
   ]
  },
  {
   "cell_type": "code",
   "execution_count": 8,
   "metadata": {},
   "outputs": [],
   "source": [
    "temp_df  = pd.merge(filter_df, mcsa_phenotype, on=['Subject', 'Date'], how='inner')"
   ]
  },
  {
   "cell_type": "code",
   "execution_count": null,
   "metadata": {},
   "outputs": [],
   "source": [
    "temp_df.info()"
   ]
  },
  {
   "cell_type": "code",
   "execution_count": 11,
   "metadata": {},
   "outputs": [],
   "source": [
    "# temp_df.to_csv('/NFS/MRI/MCSA/phenotype/MCSA_Phenotype_filtered.csv', index=False)"
   ]
  },
  {
   "cell_type": "code",
   "execution_count": null,
   "metadata": {},
   "outputs": [],
   "source": [
    "temp_df['Dataset'] = 'MCSA'\n",
    "temp_df.drop(columns=['Date',\"CDRSUM\"], inplace=True)\n",
    "temp_df"
   ]
  },
  {
   "cell_type": "markdown",
   "metadata": {},
   "source": [
    "## Merge Phenotype"
   ]
  },
  {
   "cell_type": "code",
   "execution_count": 13,
   "metadata": {},
   "outputs": [],
   "source": [
    "add_bad_mris = [\n",
    "    \"wmAnnArbor_sub26099_scan_mprage_skullstripped.nii\",\n",
    "    \"wmNewYork_sub44979_scan_mprage_skullstripped.nii\",\n",
    "    \"wmOAS42041_MR_d3027_T1w.nii\",\n",
    "    \"wmOAS42061_MR_d3014_T1w.nii\",\n",
    "    \"wmOAS42074_MR_d3027_T1w.nii\",\n",
    "    \"wmOAS42139_MR_d3025_T1w.nii\",\n",
    "    \"wmOAS42137_MR_d3033_T1w.nii\",\n",
    "    \"wmOAS42094_MR_d3027_T1w.nii\",\n",
    "    \"wmOAS42160_MR_d3024_T1w.nii\",\n",
    "    \"wmOAS42164_MR_d3021_T1w.nii\",\n",
    "    \"wmOAS42041_MR_d3027_T1w.nii\",\n",
    "    \"wmOAS42168_MR_d2966_T1w.nii\",\n",
    "    \"wmOAS42238_MR_d3022_T1w.nii\",\n",
    "    \"wmOAS42214_MR_d3027_T1w.nii\",\n",
    "    \"wmOAS42201_MR_d3003_T1w.nii\",\n",
    "    \"wmOAS42248_MR_d2966_T1w.nii\",\n",
    "    \"wmOAS42249_MR_d2890_T1w.nii\",\n",
    "    \"wmOAS42263_MR_d3801_T1w.nii\",\n",
    "    \"wmOAS42269_MR_d3037_T1w.nii\",\n",
    "    \"wmOAS42274_MR_d3016_T1w.nii\",\n",
    "    \"wmOAS42323_MR_d3010_T1w.nii\",\n",
    "    \"wmOAS42365_MR_d3016_T1w.nii\",\n",
    "    \"wmOAS42375_MR_d3042_T1w.nii\",\n",
    "    \"wmOAS42413_MR_d3022_T1w.nii\",\n",
    "    \"wmOAS42409_MR_d3019_T1w.nii\",\n",
    "    \"wmOAS42394_MR_d3021_T1w.nii\",\n",
    "    \"wmOAS42377_MR_d3036_T1w.nii\",\n",
    "    \"wmOAS42418_MR_d3024_T1w.nii\",\n",
    "    \"wmOAS42451_MR_d3007_T1w.nii\",\n",
    "    \"wmOAS42455_MR_d2249_T1w.nii\",\n",
    "    \"wmOAS42545_MR_d3017_T1w.nii\",\n",
    "    \"wmOAS42528_MR_d3038_T1w.nii\",\n",
    "    \"wmOAS42483_MR_d3056_T1w.nii\",\n",
    "    \"wmOAS42555_MR_d2865_T1w.nii\",\n",
    "    \"wmOAS42573_MR_d3001_T1w.nii\",\n",
    "    \"wmOAS42574_MR_d3034_T1w.nii\",\n",
    "    \"wmOAS42689_MR_d3263_T1w.nii\",\n",
    "    \"wmOAS42670_MR_d3088_T1w.nii\",\n",
    "    \"wmOAS42667_MR_d3023_T1w.nii\",\n",
    "    \"wmOAS42717_MR_d3036_T1w.nii\"\n",
    "]\n",
    "\n",
    "bad_mris = bad_mris + add_bad_mris"
   ]
  },
  {
   "cell_type": "code",
   "execution_count": null,
   "metadata": {},
   "outputs": [],
   "source": [
    "len(bad_mris)"
   ]
  },
  {
   "cell_type": "code",
   "execution_count": null,
   "metadata": {},
   "outputs": [],
   "source": [
    "cross_phenotype = pd.read_csv('/NFS/FutureBrainGen/data/cross/CrossSectional_included_file.csv')\n",
    "cross_phenotype"
   ]
  },
  {
   "cell_type": "code",
   "execution_count": null,
   "metadata": {},
   "outputs": [],
   "source": [
    "cross_temp = pd.concat([cross_phenotype, temp_df], axis=0)\n",
    "cross_temp"
   ]
  },
  {
   "cell_type": "code",
   "execution_count": null,
   "metadata": {},
   "outputs": [],
   "source": [
    "cross_temp = cross_temp[~cross_temp['File name'].isin(bad_mris)]\n",
    "cross_temp"
   ]
  },
  {
   "cell_type": "code",
   "execution_count": 18,
   "metadata": {},
   "outputs": [],
   "source": [
    "cross_temp.to_csv('/NFS/FutureBrainGen/data/cross/CrossSectional_included_file_v2.csv', index=False)"
   ]
  },
  {
   "cell_type": "markdown",
   "metadata": {},
   "source": [
    "## AIBL"
   ]
  },
  {
   "cell_type": "code",
   "execution_count": null,
   "metadata": {},
   "outputs": [],
   "source": [
    "BASE = \"/NFS/MRI/AIBL/preprocess/cat12\"\n",
    "subjs = os.listdir(BASE)"
   ]
  },
  {
   "cell_type": "code",
   "execution_count": 5,
   "metadata": {},
   "outputs": [],
   "source": [
    "for sub in subjs:\n",
    "    subjfolder = os.path.join(BASE, sub, \"mri\")\n",
    "    wm_files = [i for i in os.listdir(subjfolder) if i.startswith('wm')]\n",
    "\n",
    "    for wm in wm_files:\n",
    "        shutil.copy(os.path.join(subjfolder, wm), '/NFS/FutureBrainGen/data/long/new_img/')\n"
   ]
  },
  {
   "cell_type": "code",
   "execution_count": null,
   "metadata": {},
   "outputs": [],
   "source": []
  },
  {
   "cell_type": "markdown",
   "metadata": {},
   "source": [
    "## Visual QC"
   ]
  },
  {
   "cell_type": "code",
   "execution_count": 6,
   "metadata": {},
   "outputs": [],
   "source": [
    "import os\n",
    "import nibabel as nib\n",
    "import matplotlib.pyplot as plt\n",
    "from tqdm.auto import tqdm"
   ]
  },
  {
   "cell_type": "code",
   "execution_count": null,
   "metadata": {},
   "outputs": [],
   "source": [
    "data = \"MCSA\"\n",
    "\n",
    "DATAPATH = os.path.join(\"/NFS/MRI/\", data)\n",
    "cross_df = pd.read_csv(os.path.join(DATAPATH, 'phenotype','MCSA_Phenotype.csv'))\n",
    "preproc_img_list = os.listdir(os.path.join(DATAPATH, 'preprocess'))\n",
    "preproc_img_list.sort()"
   ]
  },
  {
   "cell_type": "code",
   "execution_count": 10,
   "metadata": {},
   "outputs": [],
   "source": [
    "def find_mri_file(DATAPATH, subj_folder):\n",
    "    BASE = os.path.join(DATAPATH, 'preprocess')\n",
    "    IMGPATH = os.path.join(BASE, subj_folder, 'mri')\n",
    "    \n",
    "    try:\n",
    "        imgs = [os.path.join(IMGPATH, mri) for mri in os.listdir(IMGPATH) if mri.startswith('wm')]\n",
    "    except:\n",
    "        imgs = []\n",
    "\n",
    "    if len(imgs) == 0:\n",
    "        print(f'No MRI found for {subj_folder}')\n",
    "        return subj_folder\n",
    "    else:\n",
    "        return imgs"
   ]
  },
  {
   "cell_type": "code",
   "execution_count": null,
   "metadata": {},
   "outputs": [],
   "source": [
    "imgs = []\n",
    "\n",
    "error_subjs = []\n",
    "\n",
    "for subj_folder in tqdm(preproc_img_list):\n",
    "\n",
    "    mris = find_mri_file(DATAPATH, subj_folder)\n",
    "\n",
    "    if type(mris) == str:\n",
    "        error_subjs.append(mris)\n",
    "    else:\n",
    "        for mri in mris:\n",
    "            imgs.extend(mris)"
   ]
  },
  {
   "cell_type": "code",
   "execution_count": 12,
   "metadata": {},
   "outputs": [],
   "source": [
    "imgs.sort()\n",
    "imgs1 = imgs[:100]\n",
    "imgs2 = imgs[100:200]\n",
    "imgs3 = imgs[200:300]\n",
    "imgs4 = imgs[300:400]\n",
    "imgs5 = imgs[400:500]\n",
    "imgs6 = imgs[500:600]\n",
    "imgs7 = imgs[600:700]\n",
    "imgs8 = imgs[700:800]\n",
    "\n",
    "\n",
    "img_list =  [imgs1, imgs2, imgs3, imgs4, imgs5, imgs6, imgs7, imgs8]"
   ]
  },
  {
   "cell_type": "code",
   "execution_count": null,
   "metadata": {},
   "outputs": [],
   "source": [
    "for imgs in img_list:\n",
    "    fig, axs = plt.subplots(10, 10, figsize=(20, 20))\n",
    "\n",
    "    for i in range(10):\n",
    "        for j in range(10):\n",
    "            img = nib.load(os.path.join(imgs[j*10+i]))\n",
    "            img = img.get_fdata()\n",
    "            axs[i][j].imshow(img[:,:,50], cmap='gray')\n",
    "            axs[i][j].axis('off')\n",
    "            axs[i][j].set_title(f'{imgs[j*10+i]}', fontsize=6)\n",
    "    plt.tight_layout()\n",
    "    plt.show()"
   ]
  },
  {
   "cell_type": "code",
   "execution_count": null,
   "metadata": {},
   "outputs": [],
   "source": []
  }
 ],
 "metadata": {
  "kernelspec": {
   "display_name": "diff_ad",
   "language": "python",
   "name": "python3"
  },
  "language_info": {
   "codemirror_mode": {
    "name": "ipython",
    "version": 3
   },
   "file_extension": ".py",
   "mimetype": "text/x-python",
   "name": "python",
   "nbconvert_exporter": "python",
   "pygments_lexer": "ipython3",
   "version": "3.9.19"
  }
 },
 "nbformat": 4,
 "nbformat_minor": 2
}
