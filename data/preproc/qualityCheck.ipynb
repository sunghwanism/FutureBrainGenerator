{
 "cells": [
  {
   "cell_type": "code",
   "execution_count": 1,
   "metadata": {},
   "outputs": [],
   "source": [
    "import os\n",
    "import nibabel as nib\n",
    "\n",
    "import matplotlib.pyplot as plt\n",
    "\n",
    "import pandas as pd"
   ]
  },
  {
   "cell_type": "markdown",
   "metadata": {},
   "source": [
    "## Visual QC"
   ]
  },
  {
   "cell_type": "code",
   "execution_count": null,
   "metadata": {},
   "outputs": [],
   "source": [
    "import os\n",
    "import nibabel as nib\n",
    "import matplotlib.pyplot as plt\n",
    "from tqdm.auto import tqdm"
   ]
  },
  {
   "cell_type": "code",
   "execution_count": 8,
   "metadata": {},
   "outputs": [],
   "source": [
    "data = \"MCSA\"\n",
    "\n",
    "DATAPATH = os.path.join(\"/NFS/MRI/\", data)\n",
    "cross_df = pd.read_csv(os.path.join(DATAPATH, 'phenotype','MCSA_Phenotype.csv'))\n",
    "preproc_img_list = os.listdir(os.path.join(DATAPATH, 'preprocess'))\n",
    "preproc_img_list.sort()"
   ]
  },
  {
   "cell_type": "code",
   "execution_count": 10,
   "metadata": {},
   "outputs": [],
   "source": [
    "def find_mri_file(DATAPATH, subj_folder):\n",
    "    BASE = os.path.join(DATAPATH, 'preprocess')\n",
    "    IMGPATH = os.path.join(BASE, subj_folder, 'mri')\n",
    "    \n",
    "    try:\n",
    "        imgs = [os.path.join(IMGPATH, mri) for mri in os.listdir(IMGPATH) if mri.startswith('wm')]\n",
    "    except:\n",
    "        imgs = []\n",
    "\n",
    "    if len(imgs) == 0:\n",
    "        print(f'No MRI found for {subj_folder}')\n",
    "        return subj_folder\n",
    "    else:\n",
    "        return imgs"
   ]
  },
  {
   "cell_type": "code",
   "execution_count": null,
   "metadata": {},
   "outputs": [],
   "source": [
    "imgs = []\n",
    "\n",
    "error_subjs = []\n",
    "\n",
    "for subj_folder in tqdm(preproc_img_list):\n",
    "\n",
    "    mris = find_mri_file(DATAPATH, subj_folder)\n",
    "\n",
    "    if type(mris) == str:\n",
    "        error_subjs.append(mris)\n",
    "    else:\n",
    "        for mri in mris:\n",
    "            imgs.extend(mris)"
   ]
  },
  {
   "cell_type": "code",
   "execution_count": 12,
   "metadata": {},
   "outputs": [],
   "source": [
    "imgs.sort()\n",
    "imgs1 = imgs[:100]\n",
    "imgs2 = imgs[100:200]\n",
    "imgs3 = imgs[200:300]\n",
    "imgs4 = imgs[300:400]\n",
    "imgs5 = imgs[400:500]\n",
    "imgs6 = imgs[500:600]\n",
    "imgs7 = imgs[600:700]\n",
    "imgs8 = imgs[700:800]\n",
    "\n",
    "\n",
    "img_list =  [imgs1, imgs2, imgs3, imgs4, imgs5, imgs6, imgs7, imgs8]"
   ]
  },
  {
   "cell_type": "code",
   "execution_count": null,
   "metadata": {},
   "outputs": [],
   "source": [
    "for imgs in img_list:\n",
    "    fig, axs = plt.subplots(10, 10, figsize=(20, 20))\n",
    "\n",
    "    for i in range(10):\n",
    "        for j in range(10):\n",
    "            img = nib.load(os.path.join(imgs[j*10+i]))\n",
    "            img = img.get_fdata()\n",
    "            axs[i][j].imshow(img[:,:,50], cmap='gray')\n",
    "            axs[i][j].axis('off')\n",
    "            axs[i][j].set_title(f'{imgs[j*10+i]}', fontsize=6)\n",
    "    plt.tight_layout()\n",
    "    plt.show()"
   ]
  },
  {
   "cell_type": "code",
   "execution_count": null,
   "metadata": {},
   "outputs": [],
   "source": []
  }
 ],
 "metadata": {
  "kernelspec": {
   "display_name": "diff_ad",
   "language": "python",
   "name": "python3"
  },
  "language_info": {
   "codemirror_mode": {
    "name": "ipython",
    "version": 3
   },
   "file_extension": ".py",
   "mimetype": "text/x-python",
   "name": "python",
   "nbconvert_exporter": "python",
   "pygments_lexer": "ipython3",
   "version": "3.9.19"
  }
 },
 "nbformat": 4,
 "nbformat_minor": 2
}
