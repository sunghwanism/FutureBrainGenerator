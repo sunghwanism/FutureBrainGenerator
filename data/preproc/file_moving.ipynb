{
 "cells": [
  {
   "cell_type": "code",
   "execution_count": null,
   "id": "e1bdb223-9289-4dda-820d-8c7bcfe63e5c",
   "metadata": {},
   "outputs": [],
   "source": [
    "import os\n",
    "\n",
    "import pandas as pd\n",
    "import shutil\n",
    "\n",
    "from tqdm.auto import tqdm"
   ]
  },
  {
   "cell_type": "code",
   "execution_count": 5,
   "id": "f05d7d73",
   "metadata": {},
   "outputs": [],
   "source": [
    "PROJECTPATH = '/NFS/FutureBrainGen/data'\n",
    "\n",
    "def find_mri_file(DATAPATH, subj_folder):\n",
    "    BASE = os.path.join(DATAPATH, 'preprocess')\n",
    "    IMGPATH = os.path.join(BASE, subj_folder, 'mri')\n",
    "    \n",
    "    try:\n",
    "        imgs = [os.path.join(IMGPATH, mri) for mri in os.listdir(IMGPATH) if mri.startswith('wm')]\n",
    "    except:\n",
    "        imgs = []\n",
    "\n",
    "    if len(imgs) == 0:\n",
    "        return subj_folder\n",
    "\n",
    "    return imgs"
   ]
  },
  {
   "cell_type": "code",
   "execution_count": 6,
   "id": "04eb53ab",
   "metadata": {},
   "outputs": [],
   "source": [
    "data = \"MCSA\"\n",
    "\n",
    "DATAPATH = os.path.join(\"/NFS/MRI/\", data)\n",
    "cross_df = pd.read_csv(os.path.join(DATAPATH, 'phenotype','MCSA_Phenotype.csv'))\n",
    "preproc_img_list = os.listdir(os.path.join(DATAPATH, 'preprocess'))\n",
    "preproc_img_list.sort()"
   ]
  },
  {
   "cell_type": "code",
   "execution_count": null,
   "id": "04828789",
   "metadata": {},
   "outputs": [],
   "source": [
    "cross_df.head(2)"
   ]
  },
  {
   "cell_type": "code",
   "execution_count": null,
   "id": "ef74e5ef",
   "metadata": {},
   "outputs": [],
   "source": [
    "error_subjs = []\n",
    "\n",
    "for subj_folder in tqdm(preproc_img_list):\n",
    "\n",
    "    mris = find_mri_file(DATAPATH, subj_folder)\n",
    "\n",
    "    if type(mris) == str:\n",
    "        error_subjs.append(mris)\n",
    "    else:\n",
    "        for mri in mris:\n",
    "            shutil.copy(mri, os.path.join(PROJECTPATH, 'cross', 'img'))"
   ]
  },
  {
   "cell_type": "code",
   "execution_count": null,
   "id": "eb65302d",
   "metadata": {},
   "outputs": [],
   "source": [
    "len(error_subjs)"
   ]
  },
  {
   "cell_type": "code",
   "execution_count": null,
   "id": "12c2e449",
   "metadata": {},
   "outputs": [],
   "source": []
  },
  {
   "cell_type": "code",
   "execution_count": null,
   "id": "3cea7777",
   "metadata": {},
   "outputs": [],
   "source": []
  },
  {
   "cell_type": "code",
   "execution_count": null,
   "id": "d9a7d3b0",
   "metadata": {},
   "outputs": [],
   "source": []
  }
 ],
 "metadata": {
  "kernelspec": {
   "display_name": "FutureBrainGen",
   "language": "python",
   "name": "python3"
  },
  "language_info": {
   "codemirror_mode": {
    "name": "ipython",
    "version": 3
   },
   "file_extension": ".py",
   "mimetype": "text/x-python",
   "name": "python",
   "nbconvert_exporter": "python",
   "pygments_lexer": "ipython3",
   "version": "3.9.21"
  }
 },
 "nbformat": 4,
 "nbformat_minor": 5
}
