{
 "cells": [
  {
   "cell_type": "code",
   "execution_count": 1,
   "metadata": {},
   "outputs": [],
   "source": [
    "import os\n",
    "import shutil"
   ]
  },
  {
   "cell_type": "code",
   "execution_count": 2,
   "metadata": {},
   "outputs": [],
   "source": [
    "BASE = \"/NFS/MRI/ADNI/origin/t1w/ADNI_3_nifti\"\n",
    "DEST = \"/NFS/MRI/ADNI/unprocess/anat_250107/ADNI_3\""
   ]
  },
  {
   "cell_type": "code",
   "execution_count": 3,
   "metadata": {},
   "outputs": [],
   "source": [
    "subject_list = os.listdir(BASE)\n",
    "\n",
    "for subj in subject_list:\n",
    "\n",
    "    SUBDIR = os.path.join(BASE, subj)\n",
    "    files = os.listdir(SUBDIR)\n",
    "\n",
    "    for file in files:\n",
    "        if \"nii\" in file:\n",
    "            shutil.copy(os.path.join(SUBDIR, file), os.path.join(DEST, file))"
   ]
  },
  {
   "cell_type": "code",
   "execution_count": null,
   "metadata": {},
   "outputs": [],
   "source": []
  },
  {
   "cell_type": "code",
   "execution_count": null,
   "metadata": {},
   "outputs": [],
   "source": []
  }
 ],
 "metadata": {
  "kernelspec": {
   "display_name": "FutureBrainGen",
   "language": "python",
   "name": "python3"
  },
  "language_info": {
   "codemirror_mode": {
    "name": "ipython",
    "version": 3
   },
   "file_extension": ".py",
   "mimetype": "text/x-python",
   "name": "python",
   "nbconvert_exporter": "python",
   "pygments_lexer": "ipython3",
   "version": "3.9.21"
  }
 },
 "nbformat": 4,
 "nbformat_minor": 2
}
