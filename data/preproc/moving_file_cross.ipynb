{
 "cells": [
  {
   "cell_type": "code",
   "execution_count": null,
   "metadata": {},
   "outputs": [],
   "source": [
    "import shutil\n",
    "import pandas as pd\n",
    "import glob\n",
    "import os\n",
    "# Get each file path\n",
    "file_path =  \"/NFS/FutureBrainGen/data/cross/CrossSectional_included_file.csv\"\n",
    "data = pd.read_csv(file_path)\n",
    "destination_path= f'/NFS/FutureBrainGen/data/cross/img'\n",
    "\n",
    "from filepath import file_pathes"
   ]
  },
  {
   "cell_type": "code",
   "execution_count": null,
   "metadata": {},
   "outputs": [],
   "source": [
    "print(file_pathes)\n",
    "for j in range(data.shape[0]):\n",
    "    for file_path in file_pathes: \n",
    "        print(file_path)   \n",
    "        file_titles = [f for f in os.listdir(file_path) if os.path.isfile(os.path.join(file_path,f)) and \"wm\" in f]\n",
    "        file_titles= sorted(file_titles)\n",
    "        for k in file_titles:\n",
    "            if data[\"File name\"][j] == k:\n",
    "                source = file_path+f\"/{k}\"\n",
    "                destination_path1=destination_path+f\"/{k}\"\n",
    "                shutil.copy(source,destination_path1)\n"
   ]
  },
  {
   "cell_type": "code",
   "execution_count": null,
   "metadata": {},
   "outputs": [],
   "source": [
    "Dataset_name = \"fcon_1000\"\n",
    "file_path = f'/NFS/MRI/{Dataset_name}/processed/cat12'\n",
    "folder_titles = [entry.name for entry in os.scandir(file_path) if entry.is_dir()]\n",
    "folder_titles.sort()\n",
    "s=''\n",
    "#print(folder_titles)\n",
    "for j in range(7121,data.shape[0]):\n",
    "    for k in folder_titles:\n",
    "        if k =='Total':\n",
    "            file_path = f'/NFS/MRI/{Dataset_name}/processed/cat12/{k}/mri/wm'\n",
    "            file_titles = [f for f in os.listdir(file_path) if os.path.isfile(os.path.join(file_path,f)) and \"wm\" in f]\n",
    "            file_titles= sorted(file_titles)\n",
    "            for file_name in file_titles:\n",
    "                if data[\"File name\"][j] == file_name:\n",
    "                    s=data[\"File name\"][j]\n",
    "                    #print(data[\"File name\"][j])\n",
    "                    source = file_path+f\"/{file_name}\"\n",
    "                    destination_path1=destination_path+f\"/{file_name}\"\n",
    "                    shutil.copy(source,destination_path1)\n",
    "\n",
    "        else:\n",
    "            file_path = f'/NFS/MRI/{Dataset_name}/processed/cat12/{k}/mri'\n",
    "            file_titles = [f for f in os.listdir(file_path) if os.path.isfile(os.path.join(file_path,f)) and \"wm\" in f]\n",
    "            file_titles= sorted(file_titles)\n",
    "            for file_name in file_titles:\n",
    "                if data[\"File name\"][j] == file_name:\n",
    "                    if s != '':\n",
    "                        print(data[\"File name\"][j])\n",
    "                        s=''\n",
    "                        source = file_path+f\"/{file_name}\"\n",
    "                        destination_path1=destination_path+f\"/{file_name}\"\n",
    "                        shutil.copy(source,destination_path1)\n"
   ]
  },
  {
   "cell_type": "code",
   "execution_count": null,
   "metadata": {},
   "outputs": [],
   "source": []
  }
 ],
 "metadata": {
  "kernelspec": {
   "display_name": "FutureBrainGen",
   "language": "python",
   "name": "python3"
  },
  "language_info": {
   "codemirror_mode": {
    "name": "ipython",
    "version": 3
   },
   "file_extension": ".py",
   "mimetype": "text/x-python",
   "name": "python",
   "nbconvert_exporter": "python",
   "pygments_lexer": "ipython3",
   "version": "3.9.21"
  }
 },
 "nbformat": 4,
 "nbformat_minor": 2
}
