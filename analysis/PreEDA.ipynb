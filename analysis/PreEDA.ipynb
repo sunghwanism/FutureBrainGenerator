{
 "cells": [
  {
   "cell_type": "code",
   "execution_count": 1,
   "metadata": {},
   "outputs": [],
   "source": [
    "import os\n",
    "import sys\n",
    "\n",
    "import torch\n",
    "\n",
    "import numpy as np\n",
    "import pandas as pd\n",
    "\n",
    "import nibabel as nib\n",
    "\n",
    "import matplotlib.pyplot as plt"
   ]
  },
  {
   "cell_type": "code",
   "execution_count": 2,
   "metadata": {},
   "outputs": [],
   "source": [
    "MRIPATH = '/NFS/FutureBrainGen/data/long/down_img_1.7mm/'\n",
    "PHENO = '/NFS/FutureBrainGen/data/cross/CrossSectional_included_file.csv'\n",
    "MRILIST = os.listdir(MRIPATH)\n",
    "\n",
    "temp = MRILIST"
   ]
  },
  {
   "cell_type": "code",
   "execution_count": 12,
   "metadata": {},
   "outputs": [],
   "source": [
    "img = nib.load(MRIPATH + temp[0])\n",
    "img = img.get_fdata()\n",
    "\n",
    "# Convert the numpy array to a PyTorch tensor\n",
    "img_data = torch.from_numpy(img).float()\n",
    "img_data = img_data.unsqueeze(0)\n",
    "\n",
    "# Get the original dimensions (assumed to be 3D data)\n",
    "d, h, w = img_data.shape[1:]  # Shape without the channel\n",
    "\n",
    "# Define the target crop size\n",
    "target_d, target_h, target_w = (86, 106,    )\n",
    "\n",
    "# Calculate the start and end indices for cropping (crop from the center)\n",
    "start_d = (d - target_d) // 2\n",
    "start_h = (h - target_h) // 2\n",
    "start_w = (w - target_w) // 2\n",
    "\n",
    "img_data = img_data[:, start_d:start_d + target_d, start_h:start_h + target_h, start_w:start_w + target_w]\n"
   ]
  },
  {
   "cell_type": "code",
   "execution_count": null,
   "metadata": {},
   "outputs": [],
   "source": [
    "plt.imshow(img_data[0, :,:, 40])"
   ]
  },
  {
   "cell_type": "code",
   "execution_count": null,
   "metadata": {},
   "outputs": [],
   "source": [
    "plt.imshow(img_data[0, 40,:, :])"
   ]
  },
  {
   "cell_type": "code",
   "execution_count": null,
   "metadata": {},
   "outputs": [],
   "source": [
    "plt.imshow(img_data[0, :, 40, :])"
   ]
  },
  {
   "cell_type": "code",
   "execution_count": null,
   "metadata": {},
   "outputs": [],
   "source": []
  }
 ],
 "metadata": {
  "kernelspec": {
   "display_name": "FutureBrainGen",
   "language": "python",
   "name": "python3"
  },
  "language_info": {
   "codemirror_mode": {
    "name": "ipython",
    "version": 3
   },
   "file_extension": ".py",
   "mimetype": "text/x-python",
   "name": "python",
   "nbconvert_exporter": "python",
   "pygments_lexer": "ipython3",
   "version": "3.9.21"
  }
 },
 "nbformat": 4,
 "nbformat_minor": 2
}
